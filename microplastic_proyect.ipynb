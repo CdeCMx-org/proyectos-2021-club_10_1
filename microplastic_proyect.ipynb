{
 "cells": [
  {
   "cell_type": "markdown",
   "id": "8da87345-bf3a-4fa7-87b4-5fd6d5d0b24e",
   "metadata": {},
   "source": [
    "# Microplásticos en el océano\n",
    "## Análisis exploratorios de datos"
   ]
  },
  {
   "cell_type": "markdown",
   "id": "6ef0775b-bade-4326-a989-a1c6ae3e474c",
   "metadata": {},
   "source": [
    "### Búsqueda de correlación entre Halobates, Zooplankton, Microplásticos"
   ]
  },
  {
   "cell_type": "markdown",
   "id": "2166e159-9292-4e7c-b560-93a9dc69d39f",
   "metadata": {},
   "source": [
    "Se analizó la correlación entre presencia de microplásticos, zooplankton y halobates de un dataset obtenido de [Datazoo](https://oceaninformatics.ucsd.edu/datazoo/catalogs/ccelter/datasets/213)"
   ]
  },
  {
   "cell_type": "code",
   "execution_count": 66,
   "id": "fc2ea30b",
   "metadata": {},
   "outputs": [
    {
     "data": {
      "text/html": [
       "<div>\n",
       "<style scoped>\n",
       "    .dataframe tbody tr th:only-of-type {\n",
       "        vertical-align: middle;\n",
       "    }\n",
       "\n",
       "    .dataframe tbody tr th {\n",
       "        vertical-align: top;\n",
       "    }\n",
       "\n",
       "    .dataframe thead th {\n",
       "        text-align: right;\n",
       "    }\n",
       "</style>\n",
       "<table border=\"1\" class=\"dataframe\">\n",
       "  <thead>\n",
       "    <tr style=\"text-align: right;\">\n",
       "      <th></th>\n",
       "      <th>Halobates Abundance</th>\n",
       "      <th>Zooplankton Mass m2 (mg/mÂ²)</th>\n",
       "      <th>Microplastic Abundance</th>\n",
       "      <th>Halobates Egg Abundance</th>\n",
       "    </tr>\n",
       "  </thead>\n",
       "  <tbody>\n",
       "    <tr>\n",
       "      <th>0</th>\n",
       "      <td>-9999.0</td>\n",
       "      <td>0.373</td>\n",
       "      <td>0.009</td>\n",
       "      <td>-9999.0</td>\n",
       "    </tr>\n",
       "    <tr>\n",
       "      <th>1</th>\n",
       "      <td>-9999.0</td>\n",
       "      <td>0.671</td>\n",
       "      <td>0.123</td>\n",
       "      <td>-9999.0</td>\n",
       "    </tr>\n",
       "    <tr>\n",
       "      <th>2</th>\n",
       "      <td>-9999.0</td>\n",
       "      <td>2.597</td>\n",
       "      <td>0.035</td>\n",
       "      <td>-9999.0</td>\n",
       "    </tr>\n",
       "    <tr>\n",
       "      <th>3</th>\n",
       "      <td>-9999.0</td>\n",
       "      <td>0.565</td>\n",
       "      <td>0.042</td>\n",
       "      <td>-9999.0</td>\n",
       "    </tr>\n",
       "    <tr>\n",
       "      <th>4</th>\n",
       "      <td>-9999.0</td>\n",
       "      <td>1.738</td>\n",
       "      <td>0.115</td>\n",
       "      <td>-9999.0</td>\n",
       "    </tr>\n",
       "  </tbody>\n",
       "</table>\n",
       "</div>"
      ],
      "text/plain": [
       "   Halobates Abundance  Zooplankton Mass m2 (mg/mÂ²)  Microplastic Abundance  \\\n",
       "0              -9999.0                         0.373                   0.009   \n",
       "1              -9999.0                         0.671                   0.123   \n",
       "2              -9999.0                         2.597                   0.035   \n",
       "3              -9999.0                         0.565                   0.042   \n",
       "4              -9999.0                         1.738                   0.115   \n",
       "\n",
       "   Halobates Egg Abundance  \n",
       "0                  -9999.0  \n",
       "1                  -9999.0  \n",
       "2                  -9999.0  \n",
       "3                  -9999.0  \n",
       "4                  -9999.0  "
      ]
     },
     "execution_count": 66,
     "metadata": {},
     "output_type": "execute_result"
    }
   ],
   "source": [
    "%matplotlib inline\n",
    "import pandas as pd\n",
    "import numpy as np\n",
    "import matplotlib.pyplot as plt\n",
    "import statsmodels.api as sm\n",
    "from pandas.plotting import scatter_matrix\n",
    "import csv\n",
    "from scipy import stats\n",
    " \n",
    "url = '/Users/beren/Documents/Clubes_de_Ciencia/Proyecto/zooplankton_halobates.csv'\n",
    "names_zoo_halo = [\"Halobates Abundance\",\"Zooplankton Mass m2 (mg/mÂ²)\",\"Microplastic Abundance\" ,\"Halobates Egg Abundance\"]\n",
    "df = pd.read_csv(url, names=names_zoo_halo)\n",
    "df.head(5)"
   ]
  },
  {
   "cell_type": "code",
   "execution_count": 67,
   "id": "1865a86e-59e3-44ea-a43a-424d1287520b",
   "metadata": {},
   "outputs": [
    {
     "data": {
      "image/png": "[encoded data removed]",
      "text/plain": [
       "<Figure size 432x288 with 2 Axes>"
      ]
     },
     "metadata": {
      "needs_background": "light"
     },
     "output_type": "display_data"
    }
   ],
   "source": [
    "sm.graphics.plot_corr(corr, xnames=list(corr.columns))\n",
    "plt.show()"
   ]
  },
  {
   "cell_type": "code",
   "execution_count": 68,
   "id": "4fae0c6b-2555-4418-9d26-7c5f7ca7e300",
   "metadata": {},
   "outputs": [
    {
     "data": {
      "text/plain": [
       "array([[<AxesSubplot:xlabel='Halobates Abundance', ylabel='Halobates Abundance'>,\n",
       "        <AxesSubplot:xlabel='Zooplankton Mass m2 (mg/mÂ²)', ylabel='Halobates Abundance'>,\n",
       "        <AxesSubplot:xlabel='Microplastic Abundance', ylabel='Halobates Abundance'>,\n",
       "        <AxesSubplot:xlabel='Halobates Egg Abundance', ylabel='Halobates Abundance'>],\n",
       "       [<AxesSubplot:xlabel='Halobates Abundance', ylabel='Zooplankton Mass m2 (mg/mÂ²)'>,\n",
       "        <AxesSubplot:xlabel='Zooplankton Mass m2 (mg/mÂ²)', ylabel='Zooplankton Mass m2 (mg/mÂ²)'>,\n",
       "        <AxesSubplot:xlabel='Microplastic Abundance', ylabel='Zooplankton Mass m2 (mg/mÂ²)'>,\n",
       "        <AxesSubplot:xlabel='Halobates Egg Abundance', ylabel='Zooplankton Mass m2 (mg/mÂ²)'>],\n",
       "       [<AxesSubplot:xlabel='Halobates Abundance', ylabel='Microplastic Abundance'>,\n",
       "        <AxesSubplot:xlabel='Zooplankton Mass m2 (mg/mÂ²)', ylabel='Microplastic Abundance'>,\n",
       "        <AxesSubplot:xlabel='Microplastic Abundance', ylabel='Microplastic Abundance'>,\n",
       "        <AxesSubplot:xlabel='Halobates Egg Abundance', ylabel='Microplastic Abundance'>],\n",
       "       [<AxesSubplot:xlabel='Halobates Abundance', ylabel='Halobates Egg Abundance'>,\n",
       "        <AxesSubplot:xlabel='Zooplankton Mass m2 (mg/mÂ²)', ylabel='Halobates Egg Abundance'>,\n",
       "        <AxesSubplot:xlabel='Microplastic Abundance', ylabel='Halobates Egg Abundance'>,\n",
       "        <AxesSubplot:xlabel='Halobates Egg Abundance', ylabel='Halobates Egg Abundance'>]],\n",
       "      dtype=object)"
      ]
     },
     "execution_count": 68,
     "metadata": {},
     "output_type": "execute_result"
    },
    {
     "data": {
      "image/png": "[encoded data removed]",
      "text/plain": [
       "<Figure size 432x288 with 16 Axes>"
      ]
     },
     "metadata": {
      "needs_background": "light"
     },
     "output_type": "display_data"
    }
   ],
   "source": [
    "scatter_matrix(df[[\"Halobates Abundance\",\"Zooplankton Mass m2 (mg/mÂ²)\",\"Microplastic Abundance\" ,\"Halobates Egg Abundance\"]])"
   ]
  },
  {
   "cell_type": "code",
   "execution_count": 69,
   "id": "b4bd324e-70c4-4dc6-8843-cb8413b11e04",
   "metadata": {},
   "outputs": [
    {
     "data": {
      "text/html": [
       "<div>\n",
       "<style scoped>\n",
       "    .dataframe tbody tr th:only-of-type {\n",
       "        vertical-align: middle;\n",
       "    }\n",
       "\n",
       "    .dataframe tbody tr th {\n",
       "        vertical-align: top;\n",
       "    }\n",
       "\n",
       "    .dataframe thead th {\n",
       "        text-align: right;\n",
       "    }\n",
       "</style>\n",
       "<table border=\"1\" class=\"dataframe\">\n",
       "  <thead>\n",
       "    <tr style=\"text-align: right;\">\n",
       "      <th></th>\n",
       "      <th>Halobates Abundance</th>\n",
       "      <th>Zooplankton Mass m2 (mg/mÂ²)</th>\n",
       "      <th>Microplastic Abundance</th>\n",
       "      <th>Halobates Egg Abundance</th>\n",
       "    </tr>\n",
       "  </thead>\n",
       "  <tbody>\n",
       "    <tr>\n",
       "      <th>Halobates Abundance</th>\n",
       "      <td>1.000000</td>\n",
       "      <td>0.212916</td>\n",
       "      <td>0.212692</td>\n",
       "      <td>1.000000</td>\n",
       "    </tr>\n",
       "    <tr>\n",
       "      <th>Zooplankton Mass m2 (mg/mÂ²)</th>\n",
       "      <td>0.212916</td>\n",
       "      <td>1.000000</td>\n",
       "      <td>-0.060144</td>\n",
       "      <td>0.212921</td>\n",
       "    </tr>\n",
       "    <tr>\n",
       "      <th>Microplastic Abundance</th>\n",
       "      <td>0.212692</td>\n",
       "      <td>-0.060144</td>\n",
       "      <td>1.000000</td>\n",
       "      <td>0.212671</td>\n",
       "    </tr>\n",
       "    <tr>\n",
       "      <th>Halobates Egg Abundance</th>\n",
       "      <td>1.000000</td>\n",
       "      <td>0.212921</td>\n",
       "      <td>0.212671</td>\n",
       "      <td>1.000000</td>\n",
       "    </tr>\n",
       "  </tbody>\n",
       "</table>\n",
       "</div>"
      ],
      "text/plain": [
       "                              Halobates Abundance  \\\n",
       "Halobates Abundance                      1.000000   \n",
       "Zooplankton Mass m2 (mg/mÂ²)             0.212916   \n",
       "Microplastic Abundance                   0.212692   \n",
       "Halobates Egg Abundance                  1.000000   \n",
       "\n",
       "                              Zooplankton Mass m2 (mg/mÂ²)  \\\n",
       "Halobates Abundance                               0.212916   \n",
       "Zooplankton Mass m2 (mg/mÂ²)                      1.000000   \n",
       "Microplastic Abundance                           -0.060144   \n",
       "Halobates Egg Abundance                           0.212921   \n",
       "\n",
       "                              Microplastic Abundance  Halobates Egg Abundance  \n",
       "Halobates Abundance                         0.212692                 1.000000  \n",
       "Zooplankton Mass m2 (mg/mÂ²)               -0.060144                 0.212921  \n",
       "Microplastic Abundance                      1.000000                 0.212671  \n",
       "Halobates Egg Abundance                     0.212671                 1.000000  "
      ]
     },
     "execution_count": 69,
     "metadata": {},
     "output_type": "execute_result"
    }
   ],
   "source": [
    "df.corr()"
   ]
  },
  {
   "cell_type": "markdown",
   "id": "b11bbacc-e11e-4c67-a34f-13cdc5202c7d",
   "metadata": {},
   "source": [
    "Se observa una correlación baja **0.212692** entre la abundancia de microplásticos y halobates, así como baja correlación entre zooplankton y presencia de halobates de **0.212916**, Por otro lado, hay una correlación negativa baja o inversa de **-0.060144** entre zooplankton y microplásticos."
   ]
  },
  {
   "cell_type": "markdown",
   "id": "4bda322e-1fb3-4150-b3cc-bf06155f76db",
   "metadata": {},
   "source": [
    "### Búsqueda de intervalo de confianza entre abundancia de zooplankton y abundancia de microplásticos\n",
    "Ya que se obtuvo una correlación de -0.060144 entre abundancia de microplásticos y abundancia de zooplankton, resulta interesante obtener el intervalo de confianza entre las variables mencionadas."
   ]
  },
  {
   "cell_type": "markdown",
   "id": "f2e37c9a-cf6d-47fe-9be0-1a77cbcb7632",
   "metadata": {},
   "source": [
    "Primero se realiza la conversión de una lista a un array, aplanando los arrays de ambas variables al final."
   ]
  },
  {
   "cell_type": "code",
   "execution_count": 70,
   "id": "8a42589f-6215-43ba-b8da-0b1a331d2772",
   "metadata": {},
   "outputs": [],
   "source": [
    "url_microplastic = '/Users/beren/Documents/Clubes_de_Ciencia/Proyecto/microplastic.csv'\n",
    "url_zoo = '/Users/beren/Documents/Clubes_de_Ciencia/Proyecto/zooplankton.csv'\n",
    "\n",
    "results_m = []\n",
    "results_z = []\n",
    "with open(url_microplastic) as csvfile:\n",
    "    reader = csv.reader(csvfile, quoting=csv.QUOTE_NONNUMERIC) # change contents to floats\n",
    "    for row in reader: # each row is a list\n",
    "        results_m.append(row)\n",
    "with open(url_zoo) as csvfile:\n",
    "    reader = csv.reader(csvfile, quoting=csv.QUOTE_NONNUMERIC) # change contents to floats\n",
    "    for row in reader: # each row is a list\n",
    "        results_z.append(row)"
   ]
  },
  {
   "cell_type": "markdown",
   "id": "d5b53aa6-f1c1-4644-9370-25249cea1488",
   "metadata": {},
   "source": [
    "Se usa un algoritmo para obtener el intervalo de confianza:"
   ]
  },
  {
   "cell_type": "code",
   "execution_count": 71,
   "id": "4325ad2a-d84c-427e-ae21-ad3ae2fae636",
   "metadata": {},
   "outputs": [],
   "source": [
    "m = np.array(results_m).flatten()\n",
    "z = np.array(results_z).flatten()\n",
    "# print(np.array(results_m), np.array(results_z))\n",
    "def pearsonr_ci(x, y,alpha=0.05):\n",
    "    ''' calculate Pearson correlation along with the confidence interval using scipy and numpy\n",
    "    Parameters\n",
    "    ----------\n",
    "    x, y : iterable object such as a list or np.array\n",
    "      Input for correlation calculation\n",
    "    alpha : float\n",
    "      Significance level. 0.05 by default\n",
    "    Returns\n",
    "    -------\n",
    "    r : float\n",
    "      Pearson's correlation coefficient\n",
    "    pval : float\n",
    "      The corresponding p value\n",
    "    lo, hi : float\n",
    "      The lower and upper bound of confidence intervals\n",
    "    '''\n",
    "\n",
    "    r, p = stats.pearsonr(x,y)\n",
    "    r_z = np.arctanh(r)\n",
    "    se = 1/np.sqrt(x.size-3)\n",
    "    z = stats.norm.ppf(1-alpha/2)\n",
    "    lo_z, hi_z = r_z-z*se, r_z+z*se\n",
    "    lo, hi = np.tanh((lo_z, hi_z))\n",
    "    return r, p, lo, hi"
   ]
  },
  {
   "cell_type": "markdown",
   "id": "5ac59f8b-55c1-42f3-85d8-f464f8f13f01",
   "metadata": {},
   "source": [
    "Obteniendo el siguiente resultado"
   ]
  },
  {
   "cell_type": "code",
   "execution_count": 72,
   "id": "971d1bdc-628a-438e-b874-3ec43b72562f",
   "metadata": {},
   "outputs": [
    {
     "data": {
      "text/plain": [
       "(-0.06014399422900428,\n",
       " 0.5158493143040077,\n",
       " -0.237567716924601,\n",
       " 0.12116322451187513)"
      ]
     },
     "execution_count": 72,
     "metadata": {},
     "output_type": "execute_result"
    }
   ],
   "source": [
    "pearsonr_ci(m, z,alpha=0.05)"
   ]
  },
  {
   "cell_type": "markdown",
   "id": "506e0e4a-bf84-4993-b243-228718c75b75",
   "metadata": {},
   "source": [
    "Siendo diferente de cero y por lo tanto el intervalo de confianza es significativo."
   ]
  },
  {
   "cell_type": "markdown",
   "id": "7b0e6e84-7c8b-4e53-9753-fdcbaa23478c",
   "metadata": {},
   "source": [
    "### Búsqueda de correlación entre longitudes y latitudes con presencia de microplásticos y microplásticos/zooplankton/halobates"
   ]
  },
  {
   "cell_type": "markdown",
   "id": "7062cd4a-15bd-4cea-8539-40b4828f1fb2",
   "metadata": {},
   "source": [
    "Se busco una correlación no dependiente que correlaciones las longitudes y latitudes dónde hay presencia de microplásticos y halobates, la data pública se obtuvo de [Datazoo](https://oceaninformatics.ucsd.edu/datazoo/catalogs/ccelter/datasets/213) y [Microplásticos NOAA](https://www.ncei.noaa.gov/products/microplastics)"
   ]
  },
  {
   "cell_type": "code",
   "execution_count": 32,
   "id": "71964ed2-2826-470b-8407-07329ca9bb5e",
   "metadata": {},
   "outputs": [
    {
     "data": {
      "text/html": [
       "<div>\n",
       "<style scoped>\n",
       "    .dataframe tbody tr th:only-of-type {\n",
       "        vertical-align: middle;\n",
       "    }\n",
       "\n",
       "    .dataframe tbody tr th {\n",
       "        vertical-align: top;\n",
       "    }\n",
       "\n",
       "    .dataframe thead th {\n",
       "        text-align: right;\n",
       "    }\n",
       "</style>\n",
       "<table border=\"1\" class=\"dataframe\">\n",
       "  <thead>\n",
       "    <tr style=\"text-align: right;\">\n",
       "      <th></th>\n",
       "      <th>index</th>\n",
       "      <th>Latitude (Âº) Microplastic</th>\n",
       "      <th>Longitude (Âº) Microplastic</th>\n",
       "      <th>Latitude (Âº) Halobates</th>\n",
       "      <th>Longitude (Âº) Halobates</th>\n",
       "    </tr>\n",
       "  </thead>\n",
       "  <tbody>\n",
       "    <tr>\n",
       "      <th>0</th>\n",
       "      <td>0.016</td>\n",
       "      <td>32.39980</td>\n",
       "      <td>-119.97725</td>\n",
       "      <td>1.266</td>\n",
       "      <td>-102.900</td>\n",
       "    </tr>\n",
       "    <tr>\n",
       "      <th>1</th>\n",
       "      <td>0.013</td>\n",
       "      <td>32.41992</td>\n",
       "      <td>-119.99162</td>\n",
       "      <td>2.900</td>\n",
       "      <td>-96.583</td>\n",
       "    </tr>\n",
       "    <tr>\n",
       "      <th>2</th>\n",
       "      <td>0.019</td>\n",
       "      <td>32.40838</td>\n",
       "      <td>-119.97648</td>\n",
       "      <td>4.083</td>\n",
       "      <td>-87.000</td>\n",
       "    </tr>\n",
       "    <tr>\n",
       "      <th>3</th>\n",
       "      <td>0.000</td>\n",
       "      <td>32.40768</td>\n",
       "      <td>-119.94468</td>\n",
       "      <td>1.466</td>\n",
       "      <td>-88.683</td>\n",
       "    </tr>\n",
       "    <tr>\n",
       "      <th>4</th>\n",
       "      <td>0.006</td>\n",
       "      <td>32.41248</td>\n",
       "      <td>-119.96887</td>\n",
       "      <td>1.450</td>\n",
       "      <td>-87.033</td>\n",
       "    </tr>\n",
       "  </tbody>\n",
       "</table>\n",
       "</div>"
      ],
      "text/plain": [
       "   index  Latitude (Âº) Microplastic  Longitude (Âº) Microplastic  \\\n",
       "0  0.016                    32.39980                   -119.97725   \n",
       "1  0.013                    32.41992                   -119.99162   \n",
       "2  0.019                    32.40838                   -119.97648   \n",
       "3  0.000                    32.40768                   -119.94468   \n",
       "4  0.006                    32.41248                   -119.96887   \n",
       "\n",
       "   Latitude (Âº) Halobates  Longitude (Âº) Halobates  \n",
       "0                    1.266                  -102.900  \n",
       "1                    2.900                   -96.583  \n",
       "2                    4.083                   -87.000  \n",
       "3                    1.466                   -88.683  \n",
       "4                    1.450                   -87.033  "
      ]
     },
     "execution_count": 32,
     "metadata": {},
     "output_type": "execute_result"
    }
   ],
   "source": [
    "url_lotlat = '/Users/beren/Documents/Clubes_de_Ciencia/Proyecto/Microplastic_LotLat.csv' \n",
    "#names_lotlat = [\"index\",\"Latitude (Âº) Microplastic\",\"Latitude (Âº) Halobates\"]\n",
    "names_lotlat = [\"index\",\"Latitude (Âº) Microplastic\",\"Longitude (Âº) Microplastic\",\"Latitude (Âº) Halobates\" ,\"Longitude (Âº) Halobates\"]\n",
    "dlotlat = pd.read_csv(url_lotlat, names=names_lotlat)\n",
    "dlotlat.head(5)"
   ]
  },
  {
   "cell_type": "code",
   "execution_count": 33,
   "id": "ba5613cd-2774-4510-83c9-6e0e5a1e37c8",
   "metadata": {},
   "outputs": [
    {
     "data": {
      "image/png": "[encoded data removed]",
      "text/plain": [
       "<Figure size 432x288 with 2 Axes>"
      ]
     },
     "metadata": {
      "needs_background": "light"
     },
     "output_type": "display_data"
    }
   ],
   "source": [
    "corr_lotlat = dlotlat.set_index('index').corr()\n",
    "sm.graphics.plot_corr(corr_lotlat, xnames=list(corr_lotlat.columns))\n",
    "plt.show()"
   ]
  },
  {
   "cell_type": "markdown",
   "id": "25083f9b-efeb-4412-afe3-1890a3d1a854",
   "metadata": {},
   "source": [
    "Ahora se obtienen los datos exactos de la correlación:"
   ]
  },
  {
   "cell_type": "markdown",
   "id": "f8a63508-a1d3-45ef-89db-0a85dd9edc2c",
   "metadata": {},
   "source": [
    "### Valores de correlación entre latitudes/longitudes microplásticos y latitudes/longitudes Halobates"
   ]
  },
  {
   "cell_type": "code",
   "execution_count": 41,
   "id": "aa9f9917-911f-4b9d-9a50-2f6ea895ef12",
   "metadata": {},
   "outputs": [
    {
     "data": {
      "text/html": [
       "<div>\n",
       "<style scoped>\n",
       "    .dataframe tbody tr th:only-of-type {\n",
       "        vertical-align: middle;\n",
       "    }\n",
       "\n",
       "    .dataframe tbody tr th {\n",
       "        vertical-align: top;\n",
       "    }\n",
       "\n",
       "    .dataframe thead th {\n",
       "        text-align: right;\n",
       "    }\n",
       "</style>\n",
       "<table border=\"1\" class=\"dataframe\">\n",
       "  <thead>\n",
       "    <tr style=\"text-align: right;\">\n",
       "      <th></th>\n",
       "      <th>index</th>\n",
       "      <th>Latitude (Âº) Microplastic</th>\n",
       "      <th>Longitude (Âº) Microplastic</th>\n",
       "      <th>Latitude (Âº) Halobates</th>\n",
       "      <th>Longitude (Âº) Halobates</th>\n",
       "    </tr>\n",
       "  </thead>\n",
       "  <tbody>\n",
       "    <tr>\n",
       "      <th>index</th>\n",
       "      <td>1.000000</td>\n",
       "      <td>0.611227</td>\n",
       "      <td>-0.469817</td>\n",
       "      <td>0.407784</td>\n",
       "      <td>-0.523818</td>\n",
       "    </tr>\n",
       "    <tr>\n",
       "      <th>Latitude (Âº) Microplastic</th>\n",
       "      <td>0.611227</td>\n",
       "      <td>1.000000</td>\n",
       "      <td>-0.415273</td>\n",
       "      <td>0.302351</td>\n",
       "      <td>-0.486300</td>\n",
       "    </tr>\n",
       "    <tr>\n",
       "      <th>Longitude (Âº) Microplastic</th>\n",
       "      <td>-0.469817</td>\n",
       "      <td>-0.415273</td>\n",
       "      <td>1.000000</td>\n",
       "      <td>-0.881806</td>\n",
       "      <td>0.879943</td>\n",
       "    </tr>\n",
       "    <tr>\n",
       "      <th>Latitude (Âº) Halobates</th>\n",
       "      <td>0.407784</td>\n",
       "      <td>0.302351</td>\n",
       "      <td>-0.881806</td>\n",
       "      <td>1.000000</td>\n",
       "      <td>-0.941869</td>\n",
       "    </tr>\n",
       "    <tr>\n",
       "      <th>Longitude (Âº) Halobates</th>\n",
       "      <td>-0.523818</td>\n",
       "      <td>-0.486300</td>\n",
       "      <td>0.879943</td>\n",
       "      <td>-0.941869</td>\n",
       "      <td>1.000000</td>\n",
       "    </tr>\n",
       "  </tbody>\n",
       "</table>\n",
       "</div>"
      ],
      "text/plain": [
       "                                index  Latitude (Âº) Microplastic  \\\n",
       "index                        1.000000                    0.611227   \n",
       "Latitude (Âº) Microplastic   0.611227                    1.000000   \n",
       "Longitude (Âº) Microplastic -0.469817                   -0.415273   \n",
       "Latitude (Âº) Halobates      0.407784                    0.302351   \n",
       "Longitude (Âº) Halobates    -0.523818                   -0.486300   \n",
       "\n",
       "                             Longitude (Âº) Microplastic  \\\n",
       "index                                          -0.469817   \n",
       "Latitude (Âº) Microplastic                     -0.415273   \n",
       "Longitude (Âº) Microplastic                     1.000000   \n",
       "Latitude (Âº) Halobates                        -0.881806   \n",
       "Longitude (Âº) Halobates                        0.879943   \n",
       "\n",
       "                             Latitude (Âº) Halobates  Longitude (Âº) Halobates  \n",
       "index                                       0.407784                 -0.523818  \n",
       "Latitude (Âº) Microplastic                  0.302351                 -0.486300  \n",
       "Longitude (Âº) Microplastic                -0.881806                  0.879943  \n",
       "Latitude (Âº) Halobates                     1.000000                 -0.941869  \n",
       "Longitude (Âº) Halobates                   -0.941869                  1.000000  "
      ]
     },
     "execution_count": 41,
     "metadata": {},
     "output_type": "execute_result"
    }
   ],
   "source": [
    "dlotlat.corr()"
   ]
  },
  {
   "cell_type": "markdown",
   "id": "ad4a721d-26e5-4f8f-b196-cb9d905673da",
   "metadata": {},
   "source": [
    "**NOTA: Para este análisis no utilizaremos la correlación entre Latitude (Âº) Microplastic y Longitude (Âº) Microplastic, Longitude (Âº) Halobates y  Latitude (Âº) Halobates,  Latitude (Âº) Microplastic y Longitude (Âº) Halobates, pues no esperamos que haya correlación entre estas variables.**"
   ]
  },
  {
   "cell_type": "markdown",
   "id": "60231748-3aab-4f89-8135-55a4bc43c374",
   "metadata": {},
   "source": [
    "Las variables que esperamos tengan una correlación sin dependencia, son Latitude (Âº) Microplastic/Latitude (Âº) Halobates con **0.302351**, por otro lado, Longitude (Âº) Microplastic y Longitude (Âº) Halobates con **0.879943** con lo que se puede decir que se encuentran microsplásticos cerca de la misma longitud donde existe la presencia de Halobates.  "
   ]
  },
  {
   "cell_type": "code",
   "execution_count": null,
   "id": "be732f0e-01b9-4a1c-bac7-da31a7ec285f",
   "metadata": {},
   "outputs": [],
   "source": []
  }
 ],
 "metadata": {
  "kernelspec": {
   "display_name": "Python 3",
   "language": "python",
   "name": "python3"
  },
  "language_info": {
   "codemirror_mode": {
    "name": "ipython",
    "version": 3
   },
   "file_extension": ".py",
   "mimetype": "text/x-python",
   "name": "python",
   "nbconvert_exporter": "python",
   "pygments_lexer": "ipython3",
   "version": "3.8.8"
  }
 },
 "nbformat": 4,
 "nbformat_minor": 5
}
