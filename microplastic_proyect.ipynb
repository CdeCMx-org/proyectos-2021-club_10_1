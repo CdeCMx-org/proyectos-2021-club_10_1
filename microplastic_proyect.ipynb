{
 "cells": [
  {
   "cell_type": "markdown",
   "id": "8da87345-bf3a-4fa7-87b4-5fd6d5d0b24e",
   "metadata": {},
   "source": [
    "# Microplásticos en el océano"
   ]
  },
  {
   "cell_type": "code",
   "execution_count": 2,
   "id": "fc2ea30b",
   "metadata": {},
   "outputs": [
    {
     "data": {
      "text/html": [
       "<div>\n",
       "<style scoped>\n",
       "    .dataframe tbody tr th:only-of-type {\n",
       "        vertical-align: middle;\n",
       "    }\n",
       "\n",
       "    .dataframe tbody tr th {\n",
       "        vertical-align: top;\n",
       "    }\n",
       "\n",
       "    .dataframe thead th {\n",
       "        text-align: right;\n",
       "    }\n",
       "</style>\n",
       "<table border=\"1\" class=\"dataframe\">\n",
       "  <thead>\n",
       "    <tr style=\"text-align: right;\">\n",
       "      <th></th>\n",
       "      <th>Halobates Abundance</th>\n",
       "      <th>Zooplankton Mass m2 (mg/mÂ²)</th>\n",
       "      <th>Microplastic Abundance</th>\n",
       "      <th>Halobates Egg Abundance</th>\n",
       "    </tr>\n",
       "  </thead>\n",
       "  <tbody>\n",
       "    <tr>\n",
       "      <th>0</th>\n",
       "      <td>-9999.0</td>\n",
       "      <td>0.373</td>\n",
       "      <td>0.009</td>\n",
       "      <td>-9999.0</td>\n",
       "    </tr>\n",
       "    <tr>\n",
       "      <th>1</th>\n",
       "      <td>-9999.0</td>\n",
       "      <td>0.671</td>\n",
       "      <td>0.123</td>\n",
       "      <td>-9999.0</td>\n",
       "    </tr>\n",
       "    <tr>\n",
       "      <th>2</th>\n",
       "      <td>-9999.0</td>\n",
       "      <td>2.597</td>\n",
       "      <td>0.035</td>\n",
       "      <td>-9999.0</td>\n",
       "    </tr>\n",
       "    <tr>\n",
       "      <th>3</th>\n",
       "      <td>-9999.0</td>\n",
       "      <td>0.565</td>\n",
       "      <td>0.042</td>\n",
       "      <td>-9999.0</td>\n",
       "    </tr>\n",
       "    <tr>\n",
       "      <th>4</th>\n",
       "      <td>-9999.0</td>\n",
       "      <td>1.738</td>\n",
       "      <td>0.115</td>\n",
       "      <td>-9999.0</td>\n",
       "    </tr>\n",
       "  </tbody>\n",
       "</table>\n",
       "</div>"
      ],
      "text/plain": [
       "   Halobates Abundance  Zooplankton Mass m2 (mg/mÂ²)  Microplastic Abundance  \\\n",
       "0              -9999.0                         0.373                   0.009   \n",
       "1              -9999.0                         0.671                   0.123   \n",
       "2              -9999.0                         2.597                   0.035   \n",
       "3              -9999.0                         0.565                   0.042   \n",
       "4              -9999.0                         1.738                   0.115   \n",
       "\n",
       "   Halobates Egg Abundance  \n",
       "0                  -9999.0  \n",
       "1                  -9999.0  \n",
       "2                  -9999.0  \n",
       "3                  -9999.0  \n",
       "4                  -9999.0  "
      ]
     },
     "execution_count": 2,
     "metadata": {},
     "output_type": "execute_result"
    }
   ],
   "source": [
    "%matplotlib inline\n",
    "import pandas as pd\n",
    "import numpy as np\n",
    "import matplotlib.pyplot as plt\n",
    "import statsmodels.api as sm\n",
    " \n",
    "url = '/Users/beren/Documents/Clubes_de_Ciencia/Proyecto/zooplankton_halobates.csv'\n",
    "names_zoo_halo = [\"Halobates Abundance\",\"Zooplankton Mass m2 (mg/mÂ²)\",\"Microplastic Abundance\" ,\"Halobates Egg Abundance\"]\n",
    "df = pd.read_csv(url, names=names_zoo_halo)\n",
    "df.head(5)"
   ]
  },
  {
   "cell_type": "markdown",
   "id": "6ef0775b-bade-4326-a989-a1c6ae3e474c",
   "metadata": {},
   "source": [
    "### Búsqueda de correlación entre Halobates, Zooplankton, Microplásticos"
   ]
  },
  {
   "cell_type": "markdown",
   "id": "2166e159-9292-4e7c-b560-93a9dc69d39f",
   "metadata": {},
   "source": [
    "Se analizó la correlación entre presencia de microplásticos, zooplankton y halobates de un dataset obtenido de [Datazoo](https://oceaninformatics.ucsd.edu/datazoo/catalogs/ccelter/datasets/213)"
   ]
  },
  {
   "cell_type": "code",
   "execution_count": 7,
   "id": "f4cd9ca9-dcce-4a8c-ab09-a2fc26abacf7",
   "metadata": {},
   "outputs": [
    {
     "data": {
      "text/html": [
       "<div>\n",
       "<style scoped>\n",
       "    .dataframe tbody tr th:only-of-type {\n",
       "        vertical-align: middle;\n",
       "    }\n",
       "\n",
       "    .dataframe tbody tr th {\n",
       "        vertical-align: top;\n",
       "    }\n",
       "\n",
       "    .dataframe thead th {\n",
       "        text-align: right;\n",
       "    }\n",
       "</style>\n",
       "<table border=\"1\" class=\"dataframe\">\n",
       "  <thead>\n",
       "    <tr style=\"text-align: right;\">\n",
       "      <th></th>\n",
       "      <th>Halobates Abundance</th>\n",
       "      <th>Zooplankton Mass m2 (mg/mÂ²)</th>\n",
       "      <th>Microplastic Abundance</th>\n",
       "    </tr>\n",
       "  </thead>\n",
       "  <tbody>\n",
       "    <tr>\n",
       "      <th>Halobates Abundance</th>\n",
       "      <td>1.000000</td>\n",
       "      <td>0.212916</td>\n",
       "      <td>0.212692</td>\n",
       "    </tr>\n",
       "    <tr>\n",
       "      <th>Zooplankton Mass m2 (mg/mÂ²)</th>\n",
       "      <td>0.212916</td>\n",
       "      <td>1.000000</td>\n",
       "      <td>-0.060144</td>\n",
       "    </tr>\n",
       "    <tr>\n",
       "      <th>Microplastic Abundance</th>\n",
       "      <td>0.212692</td>\n",
       "      <td>-0.060144</td>\n",
       "      <td>1.000000</td>\n",
       "    </tr>\n",
       "  </tbody>\n",
       "</table>\n",
       "</div>"
      ],
      "text/plain": [
       "                              Halobates Abundance  \\\n",
       "Halobates Abundance                      1.000000   \n",
       "Zooplankton Mass m2 (mg/mÂ²)             0.212916   \n",
       "Microplastic Abundance                   0.212692   \n",
       "\n",
       "                              Zooplankton Mass m2 (mg/mÂ²)  \\\n",
       "Halobates Abundance                               0.212916   \n",
       "Zooplankton Mass m2 (mg/mÂ²)                      1.000000   \n",
       "Microplastic Abundance                           -0.060144   \n",
       "\n",
       "                              Microplastic Abundance  \n",
       "Halobates Abundance                         0.212692  \n",
       "Zooplankton Mass m2 (mg/mÂ²)               -0.060144  \n",
       "Microplastic Abundance                      1.000000  "
      ]
     },
     "execution_count": 7,
     "metadata": {},
     "output_type": "execute_result"
    }
   ],
   "source": [
    "sm.graphics.plot_corr(corr, xnames=list(corr.columns))\n",
    "plt.show()"
   ]
  },
  {
   "cell_type": "code",
   "execution_count": 3,
   "id": "b4bd324e-70c4-4dc6-8843-cb8413b11e04",
   "metadata": {},
   "outputs": [
    {
     "data": {
      "image/png": "[encoded data removed]",
      "text/plain": [
       "<Figure size 432x288 with 2 Axes>"
      ]
     },
     "metadata": {
      "needs_background": "light"
     },
     "output_type": "display_data"
    }
   ],
   "source": [
    "corr = df.set_index('Halobates Egg Abundance').corr()\n",
    "corr.head()\n",
    "sm.graphics.plot_corr(corr, xnames=list(corr.columns))\n",
    "plt.show()"
   ]
  },
  {
   "cell_type": "markdown",
   "id": "b11bbacc-e11e-4c67-a34f-13cdc5202c7d",
   "metadata": {},
   "source": [
    "Se observa una correlación baja **0.212692** entre la abundancia de microplásticos y halobates, así como baja correlación entre zooplankton y presencia de halobates de **0.212916**, Por otro lado, hay una correlación negativa baja o inversa de **-0.060144** entre zooplankton y microplásticos."
   ]
  },
  {
   "cell_type": "markdown",
   "id": "7b0e6e84-7c8b-4e53-9753-fdcbaa23478c",
   "metadata": {},
   "source": [
    "### Búsqueda de correlación entre longitudes y latitudes con presencia de microplásticos y microplásticos/zooplankton/halobates"
   ]
  },
  {
   "cell_type": "code",
   "execution_count": 12,
   "id": "71964ed2-2826-470b-8407-07329ca9bb5e",
   "metadata": {},
   "outputs": [
    {
     "data": {
      "text/html": [
       "<div>\n",
       "<style scoped>\n",
       "    .dataframe tbody tr th:only-of-type {\n",
       "        vertical-align: middle;\n",
       "    }\n",
       "\n",
       "    .dataframe tbody tr th {\n",
       "        vertical-align: top;\n",
       "    }\n",
       "\n",
       "    .dataframe thead th {\n",
       "        text-align: right;\n",
       "    }\n",
       "</style>\n",
       "<table border=\"1\" class=\"dataframe\">\n",
       "  <thead>\n",
       "    <tr style=\"text-align: right;\">\n",
       "      <th></th>\n",
       "      <th>index</th>\n",
       "      <th>Latitude (Âº) Microplastic</th>\n",
       "      <th>Longitude (Âº) Microplastic</th>\n",
       "      <th>Latitude (Âº) Halobates</th>\n",
       "      <th>Longitude (Âº) Halobates</th>\n",
       "    </tr>\n",
       "  </thead>\n",
       "  <tbody>\n",
       "    <tr>\n",
       "      <th>0</th>\n",
       "      <td>0.016</td>\n",
       "      <td>32.39980</td>\n",
       "      <td>-119.97725</td>\n",
       "      <td>1.266</td>\n",
       "      <td>-102.900</td>\n",
       "    </tr>\n",
       "    <tr>\n",
       "      <th>1</th>\n",
       "      <td>0.013</td>\n",
       "      <td>32.41992</td>\n",
       "      <td>-119.99162</td>\n",
       "      <td>2.900</td>\n",
       "      <td>-96.583</td>\n",
       "    </tr>\n",
       "    <tr>\n",
       "      <th>2</th>\n",
       "      <td>0.019</td>\n",
       "      <td>32.40838</td>\n",
       "      <td>-119.97648</td>\n",
       "      <td>4.083</td>\n",
       "      <td>-87.000</td>\n",
       "    </tr>\n",
       "    <tr>\n",
       "      <th>3</th>\n",
       "      <td>0.000</td>\n",
       "      <td>32.40768</td>\n",
       "      <td>-119.94468</td>\n",
       "      <td>1.466</td>\n",
       "      <td>-88.683</td>\n",
       "    </tr>\n",
       "    <tr>\n",
       "      <th>4</th>\n",
       "      <td>0.006</td>\n",
       "      <td>32.41248</td>\n",
       "      <td>-119.96887</td>\n",
       "      <td>1.450</td>\n",
       "      <td>-87.033</td>\n",
       "    </tr>\n",
       "  </tbody>\n",
       "</table>\n",
       "</div>"
      ],
      "text/plain": [
       "   index  Latitude (Âº) Microplastic  Longitude (Âº) Microplastic  \\\n",
       "0  0.016                    32.39980                   -119.97725   \n",
       "1  0.013                    32.41992                   -119.99162   \n",
       "2  0.019                    32.40838                   -119.97648   \n",
       "3  0.000                    32.40768                   -119.94468   \n",
       "4  0.006                    32.41248                   -119.96887   \n",
       "\n",
       "   Latitude (Âº) Halobates  Longitude (Âº) Halobates  \n",
       "0                    1.266                  -102.900  \n",
       "1                    2.900                   -96.583  \n",
       "2                    4.083                   -87.000  \n",
       "3                    1.466                   -88.683  \n",
       "4                    1.450                   -87.033  "
      ]
     },
     "execution_count": 12,
     "metadata": {},
     "output_type": "execute_result"
    }
   ],
   "source": [
    "url_lotlat = '/Users/beren/Documents/Clubes_de_Ciencia/Proyecto/Microplastic_LotLat.csv' \n",
    "#names_lotlat = [\"index\",\"Latitude (Âº) Microplastic\",\"Latitude (Âº) Halobates\"]\n",
    "names_lotlat = [\"index\",\"Latitude (Âº) Microplastic\",\"Longitude (Âº) Microplastic\",\"Latitude (Âº) Halobates\" ,\"Longitude (Âº) Halobates\"]\n",
    "dlotlat = pd.read_csv(url_lotlat, names=names_lotlat)\n",
    "dlotlat.head(5)"
   ]
  },
  {
   "cell_type": "code",
   "execution_count": 13,
   "id": "ba5613cd-2774-4510-83c9-6e0e5a1e37c8",
   "metadata": {},
   "outputs": [
    {
     "data": {
      "image/png": "[encoded data removed]",
      "text/plain": [
       "<Figure size 432x288 with 2 Axes>"
      ]
     },
     "metadata": {
      "needs_background": "light"
     },
     "output_type": "display_data"
    }
   ],
   "source": [
    "corr_lotlat = dlotlat.set_index('index').corr()\n",
    "sm.graphics.plot_corr(corr_lotlat, xnames=list(corr_lotlat.columns))\n",
    "plt.show()"
   ]
  },
  {
   "cell_type": "code",
   "execution_count": null,
   "id": "03e112ee-86be-4d4f-bf51-20829f5ad60f",
   "metadata": {},
   "outputs": [],
   "source": []
  },
  {
   "cell_type": "code",
   "execution_count": null,
   "id": "aa9f9917-911f-4b9d-9a50-2f6ea895ef12",
   "metadata": {},
   "outputs": [],
   "source": []
  }
 ],
 "metadata": {
  "kernelspec": {
   "display_name": "Python 3",
   "language": "python",
   "name": "python3"
  },
  "language_info": {
   "codemirror_mode": {
    "name": "ipython",
    "version": 3
   },
   "file_extension": ".py",
   "mimetype": "text/x-python",
   "name": "python",
   "nbconvert_exporter": "python",
   "pygments_lexer": "ipython3",
   "version": "3.8.8"
  }
 },
 "nbformat": 4,
 "nbformat_minor": 5
}
